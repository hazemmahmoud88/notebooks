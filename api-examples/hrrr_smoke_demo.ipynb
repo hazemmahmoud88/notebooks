{
 "cells": [
  {
   "cell_type": "markdown",
   "metadata": {},
   "source": [
    "# Tracking the Smoke Caused by the fires\n",
    "\n",
    "In this example we show how to use [HRRR Smoke Experimental dataset](https://data.planetos.com/datasets/noaa_hrrr_wrf_smoke) to analyse smoke in the US and we will also download historical fire data from [Cal Fire](https://www.fire.ca.gov/incidents) web page to visualize burned area since 2013.\n",
    "\n",
    "[The High-Resolution Rapid Refresh Smoke (HRRRSmoke)](https://data.planetos.com/datasets/noaa_hrrr_wrf_smoke) is a three-dimensional model that allows simulation of mesoscale flows and smoke dispersion over complex terrain, in the boundary layer and aloft at high spatial resolution over the CONUS domain. The smoke model comprises a suite of fire and environmental products for forecasters during the fire weather season. Products derived from the HRRRSmoke model include the Fire Radiative Power (FRP), Near-Surface Smoke (PM2.5), and Vertically Integrated Smoke, to complement the 10-meter winds, 1-hour precipitation, 2-meter temperature and surface visibility experimental forecast products. Keep in mind, that this dataset is EXPERIMENTAL. Therefore, they should not be used to make decisions regarding safety of life or property.\n",
    "\n",
    "HRRR Smoke has many different weather parameters, two of them are directly smoke related - Column-integrated mass density and Mass density (concentration) @ Specified height level above ground. First is vertically-integrated smoke and second smoke on the lowest model level (8 m). \n",
    "\n",
    "As we would like to have data about the Continental United States we will download data by using Package API. Then we will create a widget where you can choose timestamp by using a slider. After that, we will also save the same data as a GIF to make sharing the results with friends and colleagues more fun. And finally, we will compare smoke data with CAMS particulate matter data to find out if there's a colleration between them as HRRR Smoke is still experimental."
   ]
  },
  {
   "cell_type": "code",
   "execution_count": 1,
   "metadata": {},
   "outputs": [],
   "source": [
    "%matplotlib notebook\n",
    "%matplotlib inline\n",
    "import numpy as np\n",
    "import dh_py_access.lib.datahub as datahub\n",
    "import xarray as xr\n",
    "import matplotlib.pyplot as plt\n",
    "import ipywidgets as widgets\n",
    "from mpl_toolkits.basemap import Basemap,shiftgrid\n",
    "import dh_py_access.package_api as package_api\n",
    "import matplotlib.colors as colors\n",
    "import warnings\n",
    "import datetime\n",
    "import shutil\n",
    "import imageio\n",
    "import seaborn as sns\n",
    "import pandas as pd\n",
    "import os\n",
    "import matplotlib as mpl\n",
    "import wget\n",
    "warnings.filterwarnings(\"ignore\")"
   ]
  },
  {
   "cell_type": "markdown",
   "metadata": {},
   "source": [
    "<font color='red'>Please put your datahub API key into a file called APIKEY and place it to the notebook folder or assign your API key directly to the variable API_key!</font>"
   ]
  },
  {
   "cell_type": "code",
   "execution_count": 2,
   "metadata": {},
   "outputs": [],
   "source": [
    "server = 'api.planetos.com'\n",
    "API_key = open('APIKEY').readlines()[0].strip() #'<YOUR API KEY HERE>'\n",
    "version = 'v1'"
   ]
  },
  {
   "cell_type": "markdown",
   "metadata": {},
   "source": [
    "At first, we need to define the dataset name and a variable we want to use."
   ]
  },
  {
   "cell_type": "code",
   "execution_count": 3,
   "metadata": {},
   "outputs": [],
   "source": [
    "dh = datahub.datahub(server,version,API_key)\n",
    "dataset = 'noaa_hrrr_wrf_smoke'\n",
    "variable_name1 = 'Mass_density_concentration_height_above_ground'"
   ]
  },
  {
   "cell_type": "markdown",
   "metadata": {},
   "source": [
    "Then we define spatial range. We decided to analyze US, where unfortunately catastrofic wildfires are taking place at the moment and influeces air quality. "
   ]
  },
  {
   "cell_type": "code",
   "execution_count": 4,
   "metadata": {},
   "outputs": [],
   "source": [
    "# reftime = datetime.datetime.strftime(datetime.datetime.today(), '%Y-%m-%d') + 'T00:00:00'\n",
    "area_name = 'usa'\n",
    "today_hr = datetime.datetime.strftime(datetime.datetime.today(),'%Y%m%dT%H')\n",
    "\n",
    "latitude_north = 49; longitude_west = -127\n",
    "latitude_south = 26; longitude_east = -70.5"
   ]
  },
  {
   "cell_type": "code",
   "execution_count": null,
   "metadata": {},
   "outputs": [],
   "source": []
  },
  {
   "cell_type": "markdown",
   "metadata": {},
   "source": [
    "### Download the data with package API\n",
    "\n",
    "1. Create package objects\n",
    "2. Send commands for the package creation\n",
    "3. Download the package files"
   ]
  },
  {
   "cell_type": "code",
   "execution_count": 5,
   "metadata": {},
   "outputs": [],
   "source": [
    "package_hrrr = package_api.package_api(dh,dataset,variable_name1,longitude_west,longitude_east,latitude_south,latitude_north,area_name=area_name+today_hr)"
   ]
  },
  {
   "cell_type": "code",
   "execution_count": 6,
   "metadata": {},
   "outputs": [
    {
     "name": "stdout",
     "output_type": "stream",
     "text": [
      "http://api.planetos.com/v1/packages?apikey=03d010c205c84acd98ac21e3f1827662&dataset=noaa_hrrr_wrf_smoke&package=noaa_hrrr_wrf_smoke_recent_reftime_20201014_usa20201014T19&z=all&polygon=%5B%5B-127%2C+26%5D%2C+%5B-70.5%2C+26%5D%2C+%5B-70.5%2C+49%5D%2C+%5B-127%2C+49%5D%2C+%5B-127%2C+26%5D%5D&reftime_recent=true&var=Mass_density_concentration_height_above_ground\n"
     ]
    }
   ],
   "source": [
    "package_hrrr.make_package()"
   ]
  },
  {
   "cell_type": "code",
   "execution_count": 7,
   "metadata": {},
   "outputs": [],
   "source": [
    "package_hrrr.download_package()"
   ]
  },
  {
   "cell_type": "markdown",
   "metadata": {},
   "source": [
    "### Work with the downloaded files\n",
    "\n",
    "We start with opening the files with xarray. After that, we will create a map plot with a time slider, then make a GIF using the images, then we will do the same thing for closer area - California; and finally, we will download csv file about fires in California to visualize yearly incidents data as a bar chart."
   ]
  },
  {
   "cell_type": "code",
   "execution_count": 8,
   "metadata": {},
   "outputs": [],
   "source": [
    "dd1 = xr.open_dataset(package_hrrr.local_file_name)\n",
    "dd1['longitude'] = ((dd1.lon+180) % 360) - 180\n",
    "dd1[variable_name1].data[dd1[variable_name1].data < 0] = 0\n",
    "dd1[variable_name1].data[dd1[variable_name1].data == np.nan] = 0"
   ]
  },
  {
   "cell_type": "markdown",
   "metadata": {},
   "source": [
    "Here we are making a Basemap of the US that we will use for showing the data."
   ]
  },
  {
   "cell_type": "code",
   "execution_count": 9,
   "metadata": {},
   "outputs": [],
   "source": [
    "m = Basemap(projection='merc', lat_0 = 55, lon_0 = -4,\n",
    "         resolution = 'h', area_thresh = 0.05,\n",
    "         llcrnrlon=longitude_west, llcrnrlat=latitude_south,\n",
    "         urcrnrlon=longitude_east, urcrnrlat=latitude_north)\n",
    "lons,lats = np.meshgrid(dd1.longitude.data,dd1.lat.data)\n",
    "lonmap,latmap = m(lons,lats)"
   ]
  },
  {
   "cell_type": "markdown",
   "metadata": {
    "collapsed": true
   },
   "source": [
    "Now it is time to plot all the data. A great way to do it is to make an interactive widget, where you can choose time stamp by using a slider. \n",
    "\n",
    "As the minimum and maximum values are very different, we are using logarithmic colorbar to visualize it better.\n",
    "\n",
    "On the map we can see that the areas near fires have more smoke, but it travels pretty far. Depending on when the notebook is run, we can see very different results.\n",
    "\n",
    "But first we define minimum, maximum and also colormap."
   ]
  },
  {
   "cell_type": "code",
   "execution_count": 10,
   "metadata": {},
   "outputs": [],
   "source": [
    "vmax = np.nanmax(dd1[variable_name1].data)\n",
    "vmin = 2\n",
    "\n",
    "cmap = mpl.cm.twilight.colors[:-100]\n",
    "tmap = mpl.colors.LinearSegmentedColormap.from_list('twilight_edited', cmap)\n"
   ]
  },
  {
   "cell_type": "code",
   "execution_count": null,
   "metadata": {},
   "outputs": [],
   "source": []
  },
  {
   "cell_type": "code",
   "execution_count": 11,
   "metadata": {},
   "outputs": [
    {
     "data": {
      "application/vnd.jupyter.widget-view+json": {
       "model_id": "b2301fdb78d141159d34262c8cd778df",
       "version_major": 2,
       "version_minor": 0
      },
      "text/plain": [
       "interactive(children=(IntSlider(value=0, description='k', layout=Layout(width='100%'), max=47), Output()), _do…"
      ]
     },
     "metadata": {},
     "output_type": "display_data"
    },
    {
     "data": {
      "text/plain": [
       "<function __main__.loadimg(k)>"
      ]
     },
     "execution_count": 11,
     "metadata": {},
     "output_type": "execute_result"
    }
   ],
   "source": [
    "def loadimg(k):\n",
    "    fig=plt.figure(figsize=(10,7))\n",
    "    ax = fig.add_subplot(111)\n",
    "    pcm = m.pcolormesh(lonmap,latmap,dd1[variable_name1].data[k][0],\n",
    "                norm = colors.LogNorm(vmin=vmin, vmax=vmax),cmap = tmap)\n",
    "    ilat,ilon = np.unravel_index(np.nanargmax(dd1[variable_name1].data[k][0]),dd1[variable_name1].data[k][0].shape)\n",
    "    cbar = plt.colorbar(pcm,fraction=0.024, pad=0.040,ticks=[10**0, 10**1, 10**2,10**3])\n",
    "    cbar.ax.set_yticklabels([0,10,100,1000]) \n",
    "    ttl = plt.title('Near Surface Smoke ' + str(dd1[variable_name1].time[k].data)[:-10],fontsize=20,fontweight = 'bold')\n",
    "    ttl.set_position([.5, 1.05])\n",
    "    cbar.set_label(dd1[variable_name1].units)\n",
    "\n",
    "    m.drawcountries()\n",
    "    m.drawstates()\n",
    "    m.drawcoastlines()\n",
    "    print(\"Maximum: \",\"%.2f\" % np.nanmax(dd1[variable_name1].data[k][0]))\n",
    "\n",
    "    plt.show()\n",
    "widgets.interact(loadimg, k=widgets.IntSlider(min=0,max=len(dd1[variable_name1].data)-1,step=1,value=0, layout=widgets.Layout(width='100%')))"
   ]
  },
  {
   "cell_type": "markdown",
   "metadata": {},
   "source": [
    "Let's include an image from the last time-step as well, because GitHub Preview doesn't show the time slider images. "
   ]
  },
  {
   "cell_type": "code",
   "execution_count": 12,
   "metadata": {},
   "outputs": [
    {
     "name": "stdout",
     "output_type": "stream",
     "text": [
      "Maximum:  634.74\n"
     ]
    },
    {
     "data": {
      "image/png": "[encoded data removed]",
      "text/plain": [
       "<Figure size 720x504 with 2 Axes>"
      ]
     },
     "metadata": {
      "needs_background": "light"
     },
     "output_type": "display_data"
    }
   ],
   "source": [
    "loadimg(9)"
   ]
  },
  {
   "cell_type": "markdown",
   "metadata": {},
   "source": [
    "With the function below we will save images you saw above to the local filesystem as a GIF, so it is easily shareable with others. "
   ]
  },
  {
   "cell_type": "code",
   "execution_count": 13,
   "metadata": {},
   "outputs": [
    {
     "name": "stdout",
     "output_type": "stream",
     "text": [
      "GIF is saved as hrrr_smoke.gif under current working directory\n"
     ]
    }
   ],
   "source": [
    "def make_ani(m,lonmap,latmap,aniname,smaller_area=False):\n",
    "    if smaller_area==True:\n",
    "        fraction = 0.035\n",
    "        fontsize = 13\n",
    "    else:\n",
    "        fraction = 0.024\n",
    "        fontsize = 20\n",
    "        \n",
    "    folder = './anim/'\n",
    "    for k in range(len(dd1[variable_name1])):\n",
    "        filename = folder + 'ani_' + str(k).rjust(3,'0') + '.png'\n",
    "        if not os.path.exists(filename):\n",
    "            fig=plt.figure(figsize=(10,7))\n",
    "            ax = fig.add_subplot(111)\n",
    "            pcm = m.pcolormesh(lonmap,latmap,dd1[variable_name1].data[k][0],\n",
    "            norm = colors.LogNorm(vmin=vmin, vmax=vmax),cmap = tmap)\n",
    "\n",
    "            m.drawcoastlines()\n",
    "            m.drawcountries()\n",
    "            m.drawstates()\n",
    "            cbar = plt.colorbar(pcm,fraction=fraction, pad=0.040,ticks=[10**0, 10**1, 10**2,10**3])\n",
    "            cbar.ax.set_yticklabels([0,10,100,1000]) \n",
    "            ttl = plt.title('Near Surface Smoke ' + str(dd1[variable_name1].time[k].data)[:-10],fontsize=fontsize,fontweight = 'bold')\n",
    "            ttl.set_position([.5, 1.05])\n",
    "            cbar.set_label(dd1[variable_name1].units)\n",
    "            ax.set_xlim()\n",
    "            if not os.path.exists(folder):\n",
    "                os.mkdir(folder)\n",
    "            plt.savefig(filename,bbox_inches = 'tight',dpi=150)\n",
    "            plt.close()\n",
    "\n",
    "    files = sorted(os.listdir(folder))\n",
    "    images = []\n",
    "    for file in files:\n",
    "        if not file.startswith('.'):\n",
    "            filename = folder + file\n",
    "            images.append(imageio.imread(filename))\n",
    "    kargs = { 'duration': 0.3,'quantizer':2,'fps':5.0}\n",
    "    imageio.mimsave(aniname, images, **kargs)\n",
    "    print ('GIF is saved as {0} under current working directory'.format(aniname))\n",
    "    shutil.rmtree(folder)\n",
    "make_ani(m,lonmap,latmap,'hrrr_smoke.gif')"
   ]
  },
  {
   "cell_type": "markdown",
   "metadata": {},
   "source": [
    "As we are interested in California fires right now, it would make sense to make animation of only California area as well. So people can be prepared when smoke hits their area. The model has pretty good spatial resolution as well - 3 km, which makes tracking the smoke easier. "
   ]
  },
  {
   "cell_type": "code",
   "execution_count": 14,
   "metadata": {},
   "outputs": [],
   "source": [
    "latitude_north_cal = 43; longitude_west_cal = -126.\n",
    "latitude_south_cal = 30.5; longitude_east_cal = -113\n",
    "\n",
    "m2 = Basemap(projection='merc', lat_0 = 55, lon_0 = -4,\n",
    "         resolution = 'h', area_thresh = 0.05,\n",
    "         llcrnrlon=longitude_west_cal, llcrnrlat=latitude_south_cal,\n",
    "         urcrnrlon=longitude_east_cal, urcrnrlat=latitude_north_cal)\n",
    "lons2,lats2 = np.meshgrid(dd1.longitude.data,dd1.lat.data)\n",
    "lonmap_cal,latmap_cal = m2(lons2,lats2)"
   ]
  },
  {
   "cell_type": "code",
   "execution_count": 15,
   "metadata": {},
   "outputs": [
    {
     "name": "stdout",
     "output_type": "stream",
     "text": [
      "GIF is saved as hrrr_smoke_california.gif under current working directory\n"
     ]
    }
   ],
   "source": [
    "make_ani(m2,lonmap_cal,latmap_cal,'hrrr_smoke_california.gif',smaller_area=True)"
   ]
  },
  {
   "cell_type": "markdown",
   "metadata": {},
   "source": [
    "Finally, we will remove the package we downloaded. "
   ]
  },
  {
   "cell_type": "code",
   "execution_count": 16,
   "metadata": {},
   "outputs": [],
   "source": [
    "os.remove(package_hrrr.local_file_name)"
   ]
  },
  {
   "cell_type": "markdown",
   "metadata": {},
   "source": [
    "# Data about Burned Area from Cal Fire\n",
    "Now we will download csv file from Cal Fire web page and illustrate how many acres each year was burnt since 2013. "
   ]
  },
  {
   "cell_type": "code",
   "execution_count": 17,
   "metadata": {},
   "outputs": [
    {
     "data": {
      "text/plain": [
       "'acres_burned.csv'"
      ]
     },
     "execution_count": 17,
     "metadata": {},
     "output_type": "execute_result"
    }
   ],
   "source": [
    "wget.download('https://www.fire.ca.gov/imapdata/mapdataall.csv',out='acres_burned.csv')"
   ]
  },
  {
   "cell_type": "code",
   "execution_count": 18,
   "metadata": {},
   "outputs": [],
   "source": [
    "datain = pd.read_csv('acres_burned.csv')"
   ]
  },
  {
   "cell_type": "markdown",
   "metadata": {},
   "source": [
    "Here we convert `incident_dateonly_created` column to datetime, so it's easier to group data by year."
   ]
  },
  {
   "cell_type": "code",
   "execution_count": 19,
   "metadata": {},
   "outputs": [],
   "source": [
    "datain['incident_dateonly_created'] = pd.to_datetime(datain['incident_dateonly_created'])"
   ]
  },
  {
   "cell_type": "markdown",
   "metadata": {},
   "source": [
    "Below you can see the data from `acres_burned.csv` file. It has information about each incident. This time we only compute total acres burned each year. "
   ]
  },
  {
   "cell_type": "code",
   "execution_count": 20,
   "metadata": {},
   "outputs": [
    {
     "data": {
      "text/html": [
       "<div>\n",
       "<style scoped>\n",
       "    .dataframe tbody tr th:only-of-type {\n",
       "        vertical-align: middle;\n",
       "    }\n",
       "\n",
       "    .dataframe tbody tr th {\n",
       "        vertical-align: top;\n",
       "    }\n",
       "\n",
       "    .dataframe thead th {\n",
       "        text-align: right;\n",
       "    }\n",
       "</style>\n",
       "<table border=\"1\" class=\"dataframe\">\n",
       "  <thead>\n",
       "    <tr style=\"text-align: right;\">\n",
       "      <th></th>\n",
       "      <th>incident_name</th>\n",
       "      <th>incident_is_final</th>\n",
       "      <th>incident_date_last_update</th>\n",
       "      <th>incident_date_created</th>\n",
       "      <th>incident_administrative_unit</th>\n",
       "      <th>incident_administrative_unit_url</th>\n",
       "      <th>incident_county</th>\n",
       "      <th>incident_location</th>\n",
       "      <th>incident_acres_burned</th>\n",
       "      <th>incident_containment</th>\n",
       "      <th>...</th>\n",
       "      <th>incident_latitude</th>\n",
       "      <th>incident_type</th>\n",
       "      <th>incident_id</th>\n",
       "      <th>incident_url</th>\n",
       "      <th>incident_date_extinguished</th>\n",
       "      <th>incident_dateonly_extinguished</th>\n",
       "      <th>incident_dateonly_created</th>\n",
       "      <th>is_active</th>\n",
       "      <th>calfire_incident</th>\n",
       "      <th>notification_desired</th>\n",
       "    </tr>\n",
       "  </thead>\n",
       "  <tbody>\n",
       "    <tr>\n",
       "      <th>0</th>\n",
       "      <td>Bridge Fire</td>\n",
       "      <td>True</td>\n",
       "      <td>2018-01-09 13:46:00</td>\n",
       "      <td>2017-10-31 11:22:00</td>\n",
       "      <td>Shasta-Trinity National Forest</td>\n",
       "      <td>NaN</td>\n",
       "      <td>Shasta</td>\n",
       "      <td>I-5 and Turntable Bay, 7 miles NE of Shasta Lake</td>\n",
       "      <td>37</td>\n",
       "      <td>100</td>\n",
       "      <td>...</td>\n",
       "      <td>40.774000</td>\n",
       "      <td>NaN</td>\n",
       "      <td>2ca11d45-8139-4c16-8af0-880d99b21e82</td>\n",
       "      <td>https://www.fire.ca.gov/incidents/2017/10/31/b...</td>\n",
       "      <td>2018-01-09 13:46:00</td>\n",
       "      <td>2018-01-09</td>\n",
       "      <td>2017-10-31</td>\n",
       "      <td>N</td>\n",
       "      <td>False</td>\n",
       "      <td>False</td>\n",
       "    </tr>\n",
       "    <tr>\n",
       "      <th>1</th>\n",
       "      <td>Pala Fire</td>\n",
       "      <td>True</td>\n",
       "      <td>2020-09-16 14:07:35</td>\n",
       "      <td>2009-05-24 14:56:00</td>\n",
       "      <td>CAL FIRE San Diego Unit</td>\n",
       "      <td>NaN</td>\n",
       "      <td>San Diego</td>\n",
       "      <td>Hwy 76 and Pala Temecula, northwest of Pala</td>\n",
       "      <td>122</td>\n",
       "      <td>100</td>\n",
       "      <td>...</td>\n",
       "      <td>1.000000</td>\n",
       "      <td>Wildfire</td>\n",
       "      <td>8f61f461-552d-4538-b186-35ab030da416</td>\n",
       "      <td>https://www.fire.ca.gov/incidents/2009/5/24/pa...</td>\n",
       "      <td>2009-05-25 00:00:00</td>\n",
       "      <td>2009-05-25</td>\n",
       "      <td>2009-05-24</td>\n",
       "      <td>N</td>\n",
       "      <td>True</td>\n",
       "      <td>False</td>\n",
       "    </tr>\n",
       "    <tr>\n",
       "      <th>2</th>\n",
       "      <td>River Fire</td>\n",
       "      <td>True</td>\n",
       "      <td>2013-02-28 20:00:00</td>\n",
       "      <td>2013-02-24 08:16:00</td>\n",
       "      <td>CAL FIRE San Bernardino Unit</td>\n",
       "      <td>NaN</td>\n",
       "      <td>Inyo</td>\n",
       "      <td>south of Narrow Gauge Rd &amp; north of Hwy 136, e...</td>\n",
       "      <td>406</td>\n",
       "      <td>100</td>\n",
       "      <td>...</td>\n",
       "      <td>36.602575</td>\n",
       "      <td>NaN</td>\n",
       "      <td>094719ba-a47b-4abb-9ec5-a506b2b9fd23</td>\n",
       "      <td>https://www.fire.ca.gov/incidents/2013/2/24/ri...</td>\n",
       "      <td>2013-02-28 20:00:00</td>\n",
       "      <td>2013-02-28</td>\n",
       "      <td>2013-02-24</td>\n",
       "      <td>N</td>\n",
       "      <td>True</td>\n",
       "      <td>False</td>\n",
       "    </tr>\n",
       "    <tr>\n",
       "      <th>3</th>\n",
       "      <td>Fawnskin Fire</td>\n",
       "      <td>True</td>\n",
       "      <td>2013-04-22 09:00:00</td>\n",
       "      <td>2013-04-20 17:30:00</td>\n",
       "      <td>San Bernardino National Forest</td>\n",
       "      <td>NaN</td>\n",
       "      <td>San Bernardino</td>\n",
       "      <td>west of Delamar Mountain, north of the communi...</td>\n",
       "      <td>30</td>\n",
       "      <td>100</td>\n",
       "      <td>...</td>\n",
       "      <td>34.288877</td>\n",
       "      <td>NaN</td>\n",
       "      <td>58f89ff8-bd3e-4355-b1c0-8fa05c747d3f</td>\n",
       "      <td>https://www.fire.ca.gov/incidents/2013/4/20/fa...</td>\n",
       "      <td>2013-04-22 09:00:00</td>\n",
       "      <td>2013-04-22</td>\n",
       "      <td>2013-04-20</td>\n",
       "      <td>N</td>\n",
       "      <td>False</td>\n",
       "      <td>False</td>\n",
       "    </tr>\n",
       "    <tr>\n",
       "      <th>4</th>\n",
       "      <td>Gold Fire</td>\n",
       "      <td>True</td>\n",
       "      <td>2013-05-01 07:00:00</td>\n",
       "      <td>2013-04-30 12:59:00</td>\n",
       "      <td>CAL FIRE Madera-Mariposa-Merced Unit</td>\n",
       "      <td>NaN</td>\n",
       "      <td>Madera</td>\n",
       "      <td>Between Road 210 and Road 200 near Fine Gold C...</td>\n",
       "      <td>274</td>\n",
       "      <td>100</td>\n",
       "      <td>...</td>\n",
       "      <td>37.116295</td>\n",
       "      <td>NaN</td>\n",
       "      <td>357ffc13-bef9-48eb-810f-c5de851972eb</td>\n",
       "      <td>https://www.fire.ca.gov/incidents/2013/4/30/go...</td>\n",
       "      <td>2013-05-01 07:00:00</td>\n",
       "      <td>2013-05-01</td>\n",
       "      <td>2013-04-30</td>\n",
       "      <td>N</td>\n",
       "      <td>True</td>\n",
       "      <td>False</td>\n",
       "    </tr>\n",
       "    <tr>\n",
       "      <th>...</th>\n",
       "      <td>...</td>\n",
       "      <td>...</td>\n",
       "      <td>...</td>\n",
       "      <td>...</td>\n",
       "      <td>...</td>\n",
       "      <td>...</td>\n",
       "      <td>...</td>\n",
       "      <td>...</td>\n",
       "      <td>...</td>\n",
       "      <td>...</td>\n",
       "      <td>...</td>\n",
       "      <td>...</td>\n",
       "      <td>...</td>\n",
       "      <td>...</td>\n",
       "      <td>...</td>\n",
       "      <td>...</td>\n",
       "      <td>...</td>\n",
       "      <td>...</td>\n",
       "      <td>...</td>\n",
       "      <td>...</td>\n",
       "      <td>...</td>\n",
       "    </tr>\n",
       "    <tr>\n",
       "      <th>1711</th>\n",
       "      <td>Pony Fire</td>\n",
       "      <td>True</td>\n",
       "      <td>2020-10-04 07:22:52</td>\n",
       "      <td>2020-10-03 15:38:00</td>\n",
       "      <td>CAL FIRE/ Amador-El Dorado Unit</td>\n",
       "      <td>NaN</td>\n",
       "      <td>Sacramento</td>\n",
       "      <td>Pony Brown Rd and Ione Rd, Sloughhouse</td>\n",
       "      <td>20</td>\n",
       "      <td>100</td>\n",
       "      <td>...</td>\n",
       "      <td>38.464074</td>\n",
       "      <td>Wildfire</td>\n",
       "      <td>745a276b-488e-40e6-b62d-065111a98139</td>\n",
       "      <td>https://www.fire.ca.gov/incidents/2020/10/3/po...</td>\n",
       "      <td>2020-10-04 07:22:00</td>\n",
       "      <td>2020-10-04</td>\n",
       "      <td>2020-10-03</td>\n",
       "      <td>N</td>\n",
       "      <td>True</td>\n",
       "      <td>False</td>\n",
       "    </tr>\n",
       "    <tr>\n",
       "      <th>1712</th>\n",
       "      <td>Lambert Fire</td>\n",
       "      <td>True</td>\n",
       "      <td>2020-10-06 19:05:45</td>\n",
       "      <td>2020-10-04 12:46:20</td>\n",
       "      <td>CAL FIRE Amador El Dorado Unit</td>\n",
       "      <td>NaN</td>\n",
       "      <td>Amador</td>\n",
       "      <td>Lambert Road and Carbondale Road, North of Car...</td>\n",
       "      <td>21</td>\n",
       "      <td>100</td>\n",
       "      <td>...</td>\n",
       "      <td>38.424016</td>\n",
       "      <td>Wildfire</td>\n",
       "      <td>8b25feb1-9eb7-433d-8abf-d6ab554c9fe3</td>\n",
       "      <td>https://www.fire.ca.gov/incidents/2020/10/4/la...</td>\n",
       "      <td>2020-10-06 19:04:00</td>\n",
       "      <td>2020-10-06</td>\n",
       "      <td>2020-10-04</td>\n",
       "      <td>N</td>\n",
       "      <td>True</td>\n",
       "      <td>False</td>\n",
       "    </tr>\n",
       "    <tr>\n",
       "      <th>1713</th>\n",
       "      <td>Fields Fire</td>\n",
       "      <td>True</td>\n",
       "      <td>2020-10-07 08:35:45</td>\n",
       "      <td>2020-10-07 06:06:33</td>\n",
       "      <td>CAL FIRE Nevada Yuba Placer Unit</td>\n",
       "      <td>NaN</td>\n",
       "      <td>Yuba</td>\n",
       "      <td>Gold Field Road and Hammonton Road, Northeast ...</td>\n",
       "      <td>56</td>\n",
       "      <td>100</td>\n",
       "      <td>...</td>\n",
       "      <td>39.181047</td>\n",
       "      <td>Wildfire</td>\n",
       "      <td>b341b09d-2024-4b2a-a439-f39409abb432</td>\n",
       "      <td>https://www.fire.ca.gov/incidents/2020/10/7/fi...</td>\n",
       "      <td>2020-10-07 08:34:00</td>\n",
       "      <td>2020-10-07</td>\n",
       "      <td>2020-10-07</td>\n",
       "      <td>N</td>\n",
       "      <td>True</td>\n",
       "      <td>False</td>\n",
       "    </tr>\n",
       "    <tr>\n",
       "      <th>1714</th>\n",
       "      <td>Irvine Fire</td>\n",
       "      <td>True</td>\n",
       "      <td>2020-10-12 06:12:20</td>\n",
       "      <td>2020-10-11 18:04:00</td>\n",
       "      <td>CALFIRE/ Santa Clara Unit</td>\n",
       "      <td>NaN</td>\n",
       "      <td>Contra Costa</td>\n",
       "      <td>Irvine Drive in Moraga</td>\n",
       "      <td>30</td>\n",
       "      <td>100</td>\n",
       "      <td>...</td>\n",
       "      <td>37.821737</td>\n",
       "      <td>Wildfire</td>\n",
       "      <td>65b0ce28-b5e6-4dfc-b569-96716e556c90</td>\n",
       "      <td>https://www.fire.ca.gov/incidents/2020/10/11/i...</td>\n",
       "      <td>2020-10-12 00:00:00</td>\n",
       "      <td>2020-10-12</td>\n",
       "      <td>2020-10-11</td>\n",
       "      <td>N</td>\n",
       "      <td>True</td>\n",
       "      <td>False</td>\n",
       "    </tr>\n",
       "    <tr>\n",
       "      <th>1715</th>\n",
       "      <td>Diamond Fire</td>\n",
       "      <td>False</td>\n",
       "      <td>2020-10-13 14:34:16</td>\n",
       "      <td>2020-10-13 14:31:29</td>\n",
       "      <td>CAL FIRE Tuolumne Calaveras Unit</td>\n",
       "      <td>NaN</td>\n",
       "      <td>Calaveras</td>\n",
       "      <td>Highway 4 and Main Street, North of Copperopolis</td>\n",
       "      <td>20</td>\n",
       "      <td>0</td>\n",
       "      <td>...</td>\n",
       "      <td>37.983370</td>\n",
       "      <td>Wildfire</td>\n",
       "      <td>4a85b108-3756-4b00-9767-56591a517c8d</td>\n",
       "      <td>https://www.fire.ca.gov/incidents/2020/10/13/d...</td>\n",
       "      <td>NaN</td>\n",
       "      <td>NaN</td>\n",
       "      <td>2020-10-13</td>\n",
       "      <td>Y</td>\n",
       "      <td>True</td>\n",
       "      <td>False</td>\n",
       "    </tr>\n",
       "  </tbody>\n",
       "</table>\n",
       "<p>1716 rows × 23 columns</p>\n",
       "</div>"
      ],
      "text/plain": [
       "      incident_name  incident_is_final incident_date_last_update  \\\n",
       "0       Bridge Fire               True       2018-01-09 13:46:00   \n",
       "1         Pala Fire               True       2020-09-16 14:07:35   \n",
       "2        River Fire               True       2013-02-28 20:00:00   \n",
       "3     Fawnskin Fire               True       2013-04-22 09:00:00   \n",
       "4         Gold Fire               True       2013-05-01 07:00:00   \n",
       "...             ...                ...                       ...   \n",
       "1711      Pony Fire               True       2020-10-04 07:22:52   \n",
       "1712   Lambert Fire               True       2020-10-06 19:05:45   \n",
       "1713   Fields Fire                True       2020-10-07 08:35:45   \n",
       "1714    Irvine Fire               True       2020-10-12 06:12:20   \n",
       "1715   Diamond Fire              False       2020-10-13 14:34:16   \n",
       "\n",
       "     incident_date_created          incident_administrative_unit  \\\n",
       "0      2017-10-31 11:22:00       Shasta-Trinity National Forest    \n",
       "1      2009-05-24 14:56:00               CAL FIRE San Diego Unit   \n",
       "2      2013-02-24 08:16:00          CAL FIRE San Bernardino Unit   \n",
       "3      2013-04-20 17:30:00        San Bernardino National Forest   \n",
       "4      2013-04-30 12:59:00  CAL FIRE Madera-Mariposa-Merced Unit   \n",
       "...                    ...                                   ...   \n",
       "1711   2020-10-03 15:38:00       CAL FIRE/ Amador-El Dorado Unit   \n",
       "1712   2020-10-04 12:46:20       CAL FIRE Amador El Dorado Unit    \n",
       "1713   2020-10-07 06:06:33     CAL FIRE Nevada Yuba Placer Unit    \n",
       "1714   2020-10-11 18:04:00             CALFIRE/ Santa Clara Unit   \n",
       "1715   2020-10-13 14:31:29     CAL FIRE Tuolumne Calaveras Unit    \n",
       "\n",
       "      incident_administrative_unit_url incident_county  \\\n",
       "0                                  NaN          Shasta   \n",
       "1                                  NaN       San Diego   \n",
       "2                                  NaN            Inyo   \n",
       "3                                  NaN  San Bernardino   \n",
       "4                                  NaN          Madera   \n",
       "...                                ...             ...   \n",
       "1711                               NaN      Sacramento   \n",
       "1712                               NaN          Amador   \n",
       "1713                               NaN            Yuba   \n",
       "1714                               NaN    Contra Costa   \n",
       "1715                               NaN       Calaveras   \n",
       "\n",
       "                                      incident_location  \\\n",
       "0     I-5 and Turntable Bay, 7 miles NE of Shasta Lake    \n",
       "1           Hwy 76 and Pala Temecula, northwest of Pala   \n",
       "2     south of Narrow Gauge Rd & north of Hwy 136, e...   \n",
       "3     west of Delamar Mountain, north of the communi...   \n",
       "4     Between Road 210 and Road 200 near Fine Gold C...   \n",
       "...                                                 ...   \n",
       "1711             Pony Brown Rd and Ione Rd, Sloughhouse   \n",
       "1712  Lambert Road and Carbondale Road, North of Car...   \n",
       "1713  Gold Field Road and Hammonton Road, Northeast ...   \n",
       "1714                            Irvine Drive in Moraga    \n",
       "1715   Highway 4 and Main Street, North of Copperopolis   \n",
       "\n",
       "      incident_acres_burned  incident_containment  ... incident_latitude  \\\n",
       "0                        37                   100  ...         40.774000   \n",
       "1                       122                   100  ...          1.000000   \n",
       "2                       406                   100  ...         36.602575   \n",
       "3                        30                   100  ...         34.288877   \n",
       "4                       274                   100  ...         37.116295   \n",
       "...                     ...                   ...  ...               ...   \n",
       "1711                     20                   100  ...         38.464074   \n",
       "1712                     21                   100  ...         38.424016   \n",
       "1713                     56                   100  ...         39.181047   \n",
       "1714                     30                   100  ...         37.821737   \n",
       "1715                     20                     0  ...         37.983370   \n",
       "\n",
       "     incident_type                           incident_id  \\\n",
       "0              NaN  2ca11d45-8139-4c16-8af0-880d99b21e82   \n",
       "1         Wildfire  8f61f461-552d-4538-b186-35ab030da416   \n",
       "2              NaN  094719ba-a47b-4abb-9ec5-a506b2b9fd23   \n",
       "3              NaN  58f89ff8-bd3e-4355-b1c0-8fa05c747d3f   \n",
       "4              NaN  357ffc13-bef9-48eb-810f-c5de851972eb   \n",
       "...            ...                                   ...   \n",
       "1711      Wildfire  745a276b-488e-40e6-b62d-065111a98139   \n",
       "1712      Wildfire  8b25feb1-9eb7-433d-8abf-d6ab554c9fe3   \n",
       "1713      Wildfire  b341b09d-2024-4b2a-a439-f39409abb432   \n",
       "1714      Wildfire  65b0ce28-b5e6-4dfc-b569-96716e556c90   \n",
       "1715      Wildfire  4a85b108-3756-4b00-9767-56591a517c8d   \n",
       "\n",
       "                                           incident_url  \\\n",
       "0     https://www.fire.ca.gov/incidents/2017/10/31/b...   \n",
       "1     https://www.fire.ca.gov/incidents/2009/5/24/pa...   \n",
       "2     https://www.fire.ca.gov/incidents/2013/2/24/ri...   \n",
       "3     https://www.fire.ca.gov/incidents/2013/4/20/fa...   \n",
       "4     https://www.fire.ca.gov/incidents/2013/4/30/go...   \n",
       "...                                                 ...   \n",
       "1711  https://www.fire.ca.gov/incidents/2020/10/3/po...   \n",
       "1712  https://www.fire.ca.gov/incidents/2020/10/4/la...   \n",
       "1713  https://www.fire.ca.gov/incidents/2020/10/7/fi...   \n",
       "1714  https://www.fire.ca.gov/incidents/2020/10/11/i...   \n",
       "1715  https://www.fire.ca.gov/incidents/2020/10/13/d...   \n",
       "\n",
       "     incident_date_extinguished incident_dateonly_extinguished  \\\n",
       "0           2018-01-09 13:46:00                     2018-01-09   \n",
       "1           2009-05-25 00:00:00                     2009-05-25   \n",
       "2           2013-02-28 20:00:00                     2013-02-28   \n",
       "3           2013-04-22 09:00:00                     2013-04-22   \n",
       "4           2013-05-01 07:00:00                     2013-05-01   \n",
       "...                         ...                            ...   \n",
       "1711        2020-10-04 07:22:00                     2020-10-04   \n",
       "1712        2020-10-06 19:04:00                     2020-10-06   \n",
       "1713        2020-10-07 08:34:00                     2020-10-07   \n",
       "1714        2020-10-12 00:00:00                     2020-10-12   \n",
       "1715                        NaN                            NaN   \n",
       "\n",
       "     incident_dateonly_created is_active calfire_incident notification_desired  \n",
       "0                   2017-10-31         N            False                False  \n",
       "1                   2009-05-24         N             True                False  \n",
       "2                   2013-02-24         N             True                False  \n",
       "3                   2013-04-20         N            False                False  \n",
       "4                   2013-04-30         N             True                False  \n",
       "...                        ...       ...              ...                  ...  \n",
       "1711                2020-10-03         N             True                False  \n",
       "1712                2020-10-04         N             True                False  \n",
       "1713                2020-10-07         N             True                False  \n",
       "1714                2020-10-11         N             True                False  \n",
       "1715                2020-10-13         Y             True                False  \n",
       "\n",
       "[1716 rows x 23 columns]"
      ]
     },
     "execution_count": 20,
     "metadata": {},
     "output_type": "execute_result"
    }
   ],
   "source": [
    "datain"
   ]
  },
  {
   "cell_type": "markdown",
   "metadata": {},
   "source": [
    "Computing yearly sums. In some reason there's many years without much data, so we will filter it out. Also, reseting index, as we don't want dates to be as an index and making year column. "
   ]
  },
  {
   "cell_type": "code",
   "execution_count": 21,
   "metadata": {},
   "outputs": [],
   "source": [
    "burned_acres_yearly = datain.resample('1AS', on='incident_dateonly_created')['incident_acres_burned'].sum()\n",
    "burned_acres_yearly = burned_acres_yearly[burned_acres_yearly.index > datetime.datetime(2012,1,1)]\n",
    "burned_acres_yearly = burned_acres_yearly.reset_index()\n",
    "burned_acres_yearly['year'] = pd.DatetimeIndex(burned_acres_yearly.incident_dateonly_created).year"
   ]
  },
  {
   "cell_type": "markdown",
   "metadata": {},
   "source": [
    "We can see the computed data below."
   ]
  },
  {
   "cell_type": "code",
   "execution_count": 22,
   "metadata": {},
   "outputs": [
    {
     "data": {
      "text/html": [
       "<div>\n",
       "<style scoped>\n",
       "    .dataframe tbody tr th:only-of-type {\n",
       "        vertical-align: middle;\n",
       "    }\n",
       "\n",
       "    .dataframe tbody tr th {\n",
       "        vertical-align: top;\n",
       "    }\n",
       "\n",
       "    .dataframe thead th {\n",
       "        text-align: right;\n",
       "    }\n",
       "</style>\n",
       "<table border=\"1\" class=\"dataframe\">\n",
       "  <thead>\n",
       "    <tr style=\"text-align: right;\">\n",
       "      <th></th>\n",
       "      <th>incident_dateonly_created</th>\n",
       "      <th>incident_acres_burned</th>\n",
       "      <th>year</th>\n",
       "    </tr>\n",
       "  </thead>\n",
       "  <tbody>\n",
       "    <tr>\n",
       "      <th>0</th>\n",
       "      <td>2013-01-01</td>\n",
       "      <td>496937</td>\n",
       "      <td>2013</td>\n",
       "    </tr>\n",
       "    <tr>\n",
       "      <th>1</th>\n",
       "      <td>2014-01-01</td>\n",
       "      <td>297186</td>\n",
       "      <td>2014</td>\n",
       "    </tr>\n",
       "    <tr>\n",
       "      <th>2</th>\n",
       "      <td>2015-01-01</td>\n",
       "      <td>413462</td>\n",
       "      <td>2015</td>\n",
       "    </tr>\n",
       "    <tr>\n",
       "      <th>3</th>\n",
       "      <td>2016-01-01</td>\n",
       "      <td>452406</td>\n",
       "      <td>2016</td>\n",
       "    </tr>\n",
       "    <tr>\n",
       "      <th>4</th>\n",
       "      <td>2017-01-01</td>\n",
       "      <td>1455280</td>\n",
       "      <td>2017</td>\n",
       "    </tr>\n",
       "    <tr>\n",
       "      <th>5</th>\n",
       "      <td>2018-01-01</td>\n",
       "      <td>1571007</td>\n",
       "      <td>2018</td>\n",
       "    </tr>\n",
       "    <tr>\n",
       "      <th>6</th>\n",
       "      <td>2019-01-01</td>\n",
       "      <td>285439</td>\n",
       "      <td>2019</td>\n",
       "    </tr>\n",
       "    <tr>\n",
       "      <th>7</th>\n",
       "      <td>2020-01-01</td>\n",
       "      <td>2875603</td>\n",
       "      <td>2020</td>\n",
       "    </tr>\n",
       "  </tbody>\n",
       "</table>\n",
       "</div>"
      ],
      "text/plain": [
       "  incident_dateonly_created  incident_acres_burned  year\n",
       "0                2013-01-01                 496937  2013\n",
       "1                2014-01-01                 297186  2014\n",
       "2                2015-01-01                 413462  2015\n",
       "3                2016-01-01                 452406  2016\n",
       "4                2017-01-01                1455280  2017\n",
       "5                2018-01-01                1571007  2018\n",
       "6                2019-01-01                 285439  2019\n",
       "7                2020-01-01                2875603  2020"
      ]
     },
     "execution_count": 22,
     "metadata": {},
     "output_type": "execute_result"
    }
   ],
   "source": [
    "burned_acres_yearly"
   ]
  },
  {
   "cell_type": "markdown",
   "metadata": {},
   "source": [
    "Finally we will make a bar chart of the data. We are using [seaborn](https://seaborn.pydata.org/) this time for plotting the data and to visualize it better, we added colormap to bar chart as well. \n",
    "Image will be saved into the working directory. "
   ]
  },
  {
   "cell_type": "code",
   "execution_count": 23,
   "metadata": {},
   "outputs": [
    {
     "data": {
      "image/png": "[encoded data removed]",
      "text/plain": [
       "<Figure size 720x432 with 1 Axes>"
      ]
     },
     "metadata": {
      "needs_background": "light"
     },
     "output_type": "display_data"
    }
   ],
   "source": [
    "fig,ax = plt.subplots(figsize=(10,6))\n",
    "pal = sns.color_palette(\"YlOrRd_r\", len(burned_acres_yearly))\n",
    "rank = burned_acres_yearly['incident_acres_burned'].argsort().argsort()\n",
    "\n",
    "sns.barplot(x='year',y='incident_acres_burned',data=burned_acres_yearly,ci=95,ax=ax,palette=np.array(pal[::-1])[rank])\n",
    "ax.set_xlabel('Year',fontsize=15)\n",
    "\n",
    "ax.set_ylabel('Burned Area [acres]',fontsize=15)\n",
    "ax.grid(color='#C3C8CE',alpha=1)\n",
    "ax.set_axisbelow(True)\n",
    "ax.spines['bottom'].set_color('#C3C8CE')\n",
    "ax.spines['top'].set_color('#C3C8CE')\n",
    "ax.spines['left'].set_color('#C3C8CE')\n",
    "ax.spines['right'].set_color('#C3C8CE')\n",
    "ttl = ax.set_title('Burned Area in California',fontsize=20,fontweight = 'bold')\n",
    "ttl.set_position([.5, 1.05])\n",
    "ax.tick_params(labelsize=15,length=0)\n",
    "plt.savefig('acres_burned_cali.png',dpi=300)"
   ]
  }
 ],
 "metadata": {
  "kernelspec": {
   "display_name": "Python 3",
   "language": "python",
   "name": "python3"
  },
  "language_info": {
   "codemirror_mode": {
    "name": "ipython",
    "version": 3
   },
   "file_extension": ".py",
   "mimetype": "text/x-python",
   "name": "python",
   "nbconvert_exporter": "python",
   "pygments_lexer": "ipython3",
   "version": "3.7.7"
  },
  "widgets": {
   "application/vnd.jupyter.widget-state+json": {
    "state": {},
    "version_major": 1,
    "version_minor": 0
   }
  }
 },
 "nbformat": 4,
 "nbformat_minor": 2
}
